{
 "cells": [
  {
   "cell_type": "code",
   "execution_count": null,
   "id": "3ea288e5-66ba-467f-824f-c39e0e8e86dc",
   "metadata": {},
   "outputs": [],
   "source": [
    "import pandas as pd"
   ]
  },
  {
   "cell_type": "code",
   "execution_count": null,
   "id": "50bc37b1-4a06-4702-a5d7-ea3b39143221",
   "metadata": {},
   "outputs": [],
   "source": [
    "df_Budget = pd.read_csv(r\"C:\\Users\\karki\\Downloads\\Starter_Code (4)\\Starter_Code\\PyBank\\Resources\\budget_data.csv\")"
   ]
  },
  {
   "cell_type": "code",
   "execution_count": null,
   "id": "19f589b5-fab8-4399-a3fe-0050a1c62a97",
   "metadata": {},
   "outputs": [],
   "source": [
    "df_Budget.head()\n"
   ]
  },
  {
   "cell_type": "code",
   "execution_count": null,
   "id": "539f8fd4-c9ee-46a2-b65d-cb801467f3b1",
   "metadata": {},
   "outputs": [],
   "source": [
    "df_total_months = len(df_Budget['Date'].value_counts())\n",
    "df_total_months"
   ]
  },
  {
   "cell_type": "code",
   "execution_count": null,
   "id": "1223d85f-84eb-410f-9892-0f4ecd1fa45f",
   "metadata": {},
   "outputs": [],
   "source": [
    "df_Total = df_Budget['Profit/Losses'].sum()\n",
    "df_Total"
   ]
  },
  {
   "cell_type": "code",
   "execution_count": null,
   "id": "824b36ff-b647-4ec9-84e3-f420bc845262",
   "metadata": {},
   "outputs": [],
   "source": [
    "df_mean = df_Budget['Profit/Losses'].mean()\n",
    "df_mean.round(decimals=2)"
   ]
  },
  {
   "cell_type": "code",
   "execution_count": null,
   "id": "fb33ad3d-7217-4c3b-8784-fd1680380232",
   "metadata": {},
   "outputs": [],
   "source": [
    "max_index = df_Budget['Profit/Losses'].idxmax()\n",
    "df_max = df_Budget.iloc[max_index]\n",
    "df_max"
   ]
  },
  {
   "cell_type": "code",
   "execution_count": null,
   "id": "a33ca802-cbae-4cef-b8f4-c2d8afaaf726",
   "metadata": {},
   "outputs": [],
   "source": [
    "min_least = df_Budget['Profit/Losses'].idxmin()\n",
    "df_min = df_Budget.iloc[min_least]\n",
    "df_min"
   ]
  },
  {
   "cell_type": "raw",
   "id": "f9f7a46c-83c9-4e0a-b923-d4d07172ff48",
   "metadata": {},
   "source": []
  },
  {
   "cell_type": "code",
   "execution_count": null,
   "id": "61b4172b-0570-4d75-b223-75b636077015",
   "metadata": {},
   "outputs": [],
   "source": [
    "print('Financial analysis')\n",
    "print('----------------------------------')\n",
    "print('Total Months :') \n",
    "print(df_total_months)\n",
    "print(\"Total Profit/Losses:\")\n",
    "print(df_Total)\n",
    "print('Average Change: ')\n",
    "print(df_mean.round(decimals=2))\n",
    "\n",
    "print('Greatest Increase in Profits:')\n",
    "print(df_max)\n",
    "print('---------------------------')\n",
    "print('Greatest Decrease in Profits:')\n",
    "print(df_min)"
   ]
  },
  {
   "cell_type": "code",
   "execution_count": null,
   "id": "39ed50c9-b01d-4b8c-9803-202c2292573b",
   "metadata": {},
   "outputs": [],
   "source": []
  }
 ],
 "metadata": {
  "kernelspec": {
   "display_name": "Python 3 (ipykernel)",
   "language": "python",
   "name": "python3"
  },
  "language_info": {
   "codemirror_mode": {
    "name": "ipython",
    "version": 3
   },
   "file_extension": ".py",
   "mimetype": "text/x-python",
   "name": "python",
   "nbconvert_exporter": "python",
   "pygments_lexer": "ipython3",
   "version": "3.11.5"
  }
 },
 "nbformat": 4,
 "nbformat_minor": 5
}
