{
 "cells": [
  {
   "cell_type": "code",
   "execution_count": 2,
   "id": "3ea288e5-66ba-467f-824f-c39e0e8e86dc",
   "metadata": {},
   "outputs": [],
   "source": [
    "import pandas as pd"
   ]
  },
  {
   "cell_type": "code",
   "execution_count": 20,
   "id": "50bc37b1-4a06-4702-a5d7-ea3b39143221",
   "metadata": {},
   "outputs": [],
   "source": [
    "df_Budget = pd.read_csv(r\"C:\\Users\\karki\\Downloads\\Starter_Code (4)\\Starter_Code\\PyBank\\Resources\\budget_data.csv\")"
   ]
  },
  {
   "cell_type": "code",
   "execution_count": 24,
   "id": "19f589b5-fab8-4399-a3fe-0050a1c62a97",
   "metadata": {},
   "outputs": [
    {
     "data": {
      "text/html": [
       "<div>\n",
       "<style scoped>\n",
       "    .dataframe tbody tr th:only-of-type {\n",
       "        vertical-align: middle;\n",
       "    }\n",
       "\n",
       "    .dataframe tbody tr th {\n",
       "        vertical-align: top;\n",
       "    }\n",
       "\n",
       "    .dataframe thead th {\n",
       "        text-align: right;\n",
       "    }\n",
       "</style>\n",
       "<table border=\"1\" class=\"dataframe\">\n",
       "  <thead>\n",
       "    <tr style=\"text-align: right;\">\n",
       "      <th></th>\n",
       "      <th>Date</th>\n",
       "      <th>Profit/Losses</th>\n",
       "    </tr>\n",
       "  </thead>\n",
       "  <tbody>\n",
       "    <tr>\n",
       "      <th>0</th>\n",
       "      <td>Jan-10</td>\n",
       "      <td>1088983</td>\n",
       "    </tr>\n",
       "    <tr>\n",
       "      <th>1</th>\n",
       "      <td>Feb-10</td>\n",
       "      <td>-354534</td>\n",
       "    </tr>\n",
       "    <tr>\n",
       "      <th>2</th>\n",
       "      <td>Mar-10</td>\n",
       "      <td>276622</td>\n",
       "    </tr>\n",
       "    <tr>\n",
       "      <th>3</th>\n",
       "      <td>Apr-10</td>\n",
       "      <td>-728133</td>\n",
       "    </tr>\n",
       "    <tr>\n",
       "      <th>4</th>\n",
       "      <td>May-10</td>\n",
       "      <td>852993</td>\n",
       "    </tr>\n",
       "  </tbody>\n",
       "</table>\n",
       "</div>"
      ],
      "text/plain": [
       "     Date  Profit/Losses\n",
       "0  Jan-10        1088983\n",
       "1  Feb-10        -354534\n",
       "2  Mar-10         276622\n",
       "3  Apr-10        -728133\n",
       "4  May-10         852993"
      ]
     },
     "execution_count": 24,
     "metadata": {},
     "output_type": "execute_result"
    }
   ],
   "source": [
    "df_Budget.head()\n"
   ]
  },
  {
   "cell_type": "code",
   "execution_count": 199,
   "id": "539f8fd4-c9ee-46a2-b65d-cb801467f3b1",
   "metadata": {},
   "outputs": [
    {
     "data": {
      "text/plain": [
       "86"
      ]
     },
     "execution_count": 199,
     "metadata": {},
     "output_type": "execute_result"
    }
   ],
   "source": [
    "df_total_months = len(df_Budget['Date'].value_counts())\n",
    "df_total_months"
   ]
  },
  {
   "cell_type": "code",
   "execution_count": 53,
   "id": "1223d85f-84eb-410f-9892-0f4ecd1fa45f",
   "metadata": {},
   "outputs": [
    {
     "data": {
      "text/plain": [
       "22564198"
      ]
     },
     "execution_count": 53,
     "metadata": {},
     "output_type": "execute_result"
    }
   ],
   "source": [
    "df_Total = df_Budget['Profit/Losses'].sum()\n",
    "df_Total"
   ]
  },
  {
   "cell_type": "code",
   "execution_count": 169,
   "id": "824b36ff-b647-4ec9-84e3-f420bc845262",
   "metadata": {},
   "outputs": [
    {
     "data": {
      "text/plain": [
       "262374.4"
      ]
     },
     "execution_count": 169,
     "metadata": {},
     "output_type": "execute_result"
    }
   ],
   "source": [
    "df_mean = df_Budget['Profit/Losses'].mean()\n",
    "df_mean.round(decimals=2)"
   ]
  },
  {
   "cell_type": "code",
   "execution_count": 173,
   "id": "fb33ad3d-7217-4c3b-8784-fd1680380232",
   "metadata": {},
   "outputs": [
    {
     "data": {
      "text/plain": [
       "Date              Mar-13\n",
       "Profit/Losses    1141840\n",
       "Name: 38, dtype: object"
      ]
     },
     "execution_count": 173,
     "metadata": {},
     "output_type": "execute_result"
    }
   ],
   "source": [
    "max_index = df_Budget['Profit/Losses'].idxmax()\n",
    "df_max = df_Budget.iloc[max_index]\n",
    "df_max"
   ]
  },
  {
   "cell_type": "code",
   "execution_count": 191,
   "id": "a33ca802-cbae-4cef-b8f4-c2d8afaaf726",
   "metadata": {},
   "outputs": [
    {
     "data": {
      "text/plain": [
       "Date               Dec-10\n",
       "Profit/Losses    -1194133\n",
       "Name: 11, dtype: object"
      ]
     },
     "execution_count": 191,
     "metadata": {},
     "output_type": "execute_result"
    }
   ],
   "source": [
    "min_least = df_Budget['Profit/Losses'].idxmin()\n",
    "df_min = df_Budget.iloc[min_least]\n",
    "df_min"
   ]
  },
  {
   "cell_type": "raw",
   "id": "f9f7a46c-83c9-4e0a-b923-d4d07172ff48",
   "metadata": {},
   "source": []
  },
  {
   "cell_type": "code",
   "execution_count": 195,
   "id": "61b4172b-0570-4d75-b223-75b636077015",
   "metadata": {},
   "outputs": [
    {
     "name": "stdout",
     "output_type": "stream",
     "text": [
      "Financial analysis\n",
      "----------------------------------\n",
      "Total Months :\n",
      "86\n",
      "Total Profit/Losses:\n",
      "22564198\n",
      "Average Change: \n",
      "262374.4\n",
      "Greatest Increase in Profits:\n",
      "Date              Mar-13\n",
      "Profit/Losses    1141840\n",
      "Name: 38, dtype: object\n",
      "---------------------------\n",
      "Greatest Decrease in Profits:\n",
      "Date               Dec-10\n",
      "Profit/Losses    -1194133\n",
      "Name: 11, dtype: object\n"
     ]
    }
   ],
   "source": [
    "print('Financial analysis')\n",
    "print('----------------------------------')\n",
    "print('Total Months :') \n",
    "print(df_total_months)\n",
    "print(\"Total Profit/Losses:\")\n",
    "print(df_Total)\n",
    "print('Average Change: ')\n",
    "print(df_mean.round(decimals=2))\n",
    "\n",
    "print('Greatest Increase in Profits:')\n",
    "print(df_max)\n",
    "print('---------------------------')\n",
    "print('Greatest Decrease in Profits:')\n",
    "print(df_min)"
   ]
  },
  {
   "cell_type": "code",
   "execution_count": null,
   "id": "39ed50c9-b01d-4b8c-9803-202c2292573b",
   "metadata": {},
   "outputs": [],
   "source": []
  }
 ],
 "metadata": {
  "kernelspec": {
   "display_name": "Python 3 (ipykernel)",
   "language": "python",
   "name": "python3"
  },
  "language_info": {
   "codemirror_mode": {
    "name": "ipython",
    "version": 3
   },
   "file_extension": ".py",
   "mimetype": "text/x-python",
   "name": "python",
   "nbconvert_exporter": "python",
   "pygments_lexer": "ipython3",
   "version": "3.11.5"
  }
 },
 "nbformat": 4,
 "nbformat_minor": 5
}
